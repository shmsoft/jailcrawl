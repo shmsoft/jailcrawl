{
 "cells": [
  {
   "cell_type": "code",
   "execution_count": 4,
   "metadata": {},
   "outputs": [],
   "source": [
    "from bs4 import BeautifulSoup as Soup\n",
    "import pandas as pd\n",
    "import datetime\n",
    "import requests\n",
    "from selenium import webdriver\n",
    "import time\n",
    "import re\n",
    "import pickle"
   ]
  },
  {
   "cell_type": "code",
   "execution_count": 5,
   "metadata": {},
   "outputs": [],
   "source": [
    "import web_crawler"
   ]
  },
  {
   "cell_type": "code",
   "execution_count": 6,
   "metadata": {},
   "outputs": [],
   "source": [
    "with open('num_pages_xpath.pickle', 'rb') as file:\n",
    "    num_pages_xpath_dict =pickle.load(file)\n",
    "    \n",
    "with open('next_page_selector.pickle', 'rb') as file:\n",
    "    next_page_selector_dict =pickle.load(file)\n",
    "\n"
   ]
  },
  {
   "cell_type": "markdown",
   "metadata": {},
   "source": [
    "## host = omsweb"
   ]
  },
  {
   "cell_type": "code",
   "execution_count": 8,
   "metadata": {},
   "outputs": [
    {
     "data": {
      "text/html": [
       "<div>\n",
       "<style scoped>\n",
       "    .dataframe tbody tr th:only-of-type {\n",
       "        vertical-align: middle;\n",
       "    }\n",
       "\n",
       "    .dataframe tbody tr th {\n",
       "        vertical-align: top;\n",
       "    }\n",
       "\n",
       "    .dataframe thead th {\n",
       "        text-align: right;\n",
       "    }\n",
       "</style>\n",
       "<table border=\"1\" class=\"dataframe\">\n",
       "  <thead>\n",
       "    <tr style=\"text-align: right;\">\n",
       "      <th></th>\n",
       "      <th>state</th>\n",
       "      <th>location1</th>\n",
       "      <th>roster_link</th>\n",
       "    </tr>\n",
       "  </thead>\n",
       "  <tbody>\n",
       "    <tr>\n",
       "      <th>2</th>\n",
       "      <td>Indiana</td>\n",
       "      <td>laporte</td>\n",
       "      <td>https://omsweb.public-safety-cloud.com/jtclien...</td>\n",
       "    </tr>\n",
       "    <tr>\n",
       "      <th>4</th>\n",
       "      <td>Indiana</td>\n",
       "      <td>st joseph</td>\n",
       "      <td>https://omsweb.public-safety-cloud.com/jtclien...</td>\n",
       "    </tr>\n",
       "    <tr>\n",
       "      <th>16</th>\n",
       "      <td>Kentucky</td>\n",
       "      <td>campbell</td>\n",
       "      <td>https://omsweb.public-safety-cloud.com/jtclien...</td>\n",
       "    </tr>\n",
       "    <tr>\n",
       "      <th>76</th>\n",
       "      <td>North Dakota</td>\n",
       "      <td>burleigh</td>\n",
       "      <td>https://omsweb.public-safety-cloud.com/jtclien...</td>\n",
       "    </tr>\n",
       "  </tbody>\n",
       "</table>\n",
       "</div>"
      ],
      "text/plain": [
       "           state  location1                                        roster_link\n",
       "2        Indiana    laporte  https://omsweb.public-safety-cloud.com/jtclien...\n",
       "4        Indiana  st joseph  https://omsweb.public-safety-cloud.com/jtclien...\n",
       "16      Kentucky   campbell  https://omsweb.public-safety-cloud.com/jtclien...\n",
       "76  North Dakota   burleigh  https://omsweb.public-safety-cloud.com/jtclien..."
      ]
     },
     "execution_count": 8,
     "metadata": {},
     "output_type": "execute_result"
    }
   ],
   "source": [
    "links = pd.read_csv('jail_roster.csv')\n",
    "rows = links.roster_link.str.contains('omsweb')\n",
    "part_links = links.loc[rows]\n",
    "part_links"
   ]
  },
  {
   "cell_type": "code",
   "execution_count": 14,
   "metadata": {},
   "outputs": [],
   "source": [
    "num_pages_xpath = num_pages_xpath_dict['omsweb']\n",
    "next_page_selector = next_page_selector_dict['omsweb']"
   ]
  },
  {
   "cell_type": "code",
   "execution_count": 12,
   "metadata": {},
   "outputs": [],
   "source": [
    "i = 0\n",
    "url = part_links.iloc[i]['roster_link']\n",
    "state = part_links.iloc[i]['state']; location1 = part_links.iloc[i]['location1']"
   ]
  },
  {
   "cell_type": "code",
   "execution_count": null,
   "metadata": {},
   "outputs": [],
   "source": [
    "web_crawler(url, state, location1,  5, num_pages_xpath, next_page_selector, './scraped_html/' )"
   ]
  },
  {
   "cell_type": "markdown",
   "metadata": {},
   "source": [
    "## host = interopweb"
   ]
  },
  {
   "cell_type": "code",
   "execution_count": 13,
   "metadata": {},
   "outputs": [
    {
     "data": {
      "text/html": [
       "<div>\n",
       "<style scoped>\n",
       "    .dataframe tbody tr th:only-of-type {\n",
       "        vertical-align: middle;\n",
       "    }\n",
       "\n",
       "    .dataframe tbody tr th {\n",
       "        vertical-align: top;\n",
       "    }\n",
       "\n",
       "    .dataframe thead th {\n",
       "        text-align: right;\n",
       "    }\n",
       "</style>\n",
       "<table border=\"1\" class=\"dataframe\">\n",
       "  <thead>\n",
       "    <tr style=\"text-align: right;\">\n",
       "      <th></th>\n",
       "      <th>state</th>\n",
       "      <th>location1</th>\n",
       "      <th>roster_link</th>\n",
       "    </tr>\n",
       "  </thead>\n",
       "  <tbody>\n",
       "    <tr>\n",
       "      <th>7</th>\n",
       "      <td>Georgia</td>\n",
       "      <td>effingham</td>\n",
       "      <td>http://interopweb.com/effinghamsojailpop/Curre...</td>\n",
       "    </tr>\n",
       "    <tr>\n",
       "      <th>8</th>\n",
       "      <td>Georgia</td>\n",
       "      <td>habersham</td>\n",
       "      <td>http://www.interopweb.com/habersham/</td>\n",
       "    </tr>\n",
       "    <tr>\n",
       "      <th>9</th>\n",
       "      <td>Georgia</td>\n",
       "      <td>lamar</td>\n",
       "      <td>http://www.interopweb.com/lamarso/</td>\n",
       "    </tr>\n",
       "    <tr>\n",
       "      <th>10</th>\n",
       "      <td>Georgia</td>\n",
       "      <td>liberty</td>\n",
       "      <td>http://interopweb.com/libertyjailpop/</td>\n",
       "    </tr>\n",
       "    <tr>\n",
       "      <th>11</th>\n",
       "      <td>Georgia</td>\n",
       "      <td>madison</td>\n",
       "      <td>http://interopweb.com/madisonjailpop/CurrentIn...</td>\n",
       "    </tr>\n",
       "    <tr>\n",
       "      <th>12</th>\n",
       "      <td>Georgia</td>\n",
       "      <td>rabun</td>\n",
       "      <td>http://www.interopweb.com/rabun/jailpop/</td>\n",
       "    </tr>\n",
       "    <tr>\n",
       "      <th>13</th>\n",
       "      <td>Georgia</td>\n",
       "      <td>twiggs</td>\n",
       "      <td>http://interopweb.com/twiggsjailpop/</td>\n",
       "    </tr>\n",
       "    <tr>\n",
       "      <th>59</th>\n",
       "      <td>Georgia</td>\n",
       "      <td>berrien</td>\n",
       "      <td>http://www.interopweb.com/berrienjailpop/</td>\n",
       "    </tr>\n",
       "    <tr>\n",
       "      <th>60</th>\n",
       "      <td>Georgia</td>\n",
       "      <td>brantley</td>\n",
       "      <td>http://www.interopweb.com/brantleyjailpop/Curr...</td>\n",
       "    </tr>\n",
       "    <tr>\n",
       "      <th>61</th>\n",
       "      <td>Georgia</td>\n",
       "      <td>bulloch</td>\n",
       "      <td>http://www.interopweb.com/bulloch/</td>\n",
       "    </tr>\n",
       "    <tr>\n",
       "      <th>62</th>\n",
       "      <td>Georgia</td>\n",
       "      <td>carroll</td>\n",
       "      <td>http://www.interopweb.com/Carroll/</td>\n",
       "    </tr>\n",
       "    <tr>\n",
       "      <th>63</th>\n",
       "      <td>Georgia</td>\n",
       "      <td>charlton</td>\n",
       "      <td>http://www.interopweb.com/brantleyjailpop/</td>\n",
       "    </tr>\n",
       "    <tr>\n",
       "      <th>66</th>\n",
       "      <td>Georgia</td>\n",
       "      <td>dodge</td>\n",
       "      <td>http://www.interopweb.com/dodgejailpop/Current...</td>\n",
       "    </tr>\n",
       "    <tr>\n",
       "      <th>68</th>\n",
       "      <td>Georgia</td>\n",
       "      <td>long</td>\n",
       "      <td>http://interopweb.com/longso/</td>\n",
       "    </tr>\n",
       "    <tr>\n",
       "      <th>70</th>\n",
       "      <td>Georgia</td>\n",
       "      <td>tattnall</td>\n",
       "      <td>http://www.interopweb.com/tattnall/CurrentInma...</td>\n",
       "    </tr>\n",
       "    <tr>\n",
       "      <th>71</th>\n",
       "      <td>Georgia</td>\n",
       "      <td>union</td>\n",
       "      <td>http://interopweb.com/unionjailpop/</td>\n",
       "    </tr>\n",
       "    <tr>\n",
       "      <th>72</th>\n",
       "      <td>Georgia</td>\n",
       "      <td>upson</td>\n",
       "      <td>http://www.interopweb.com/upson/</td>\n",
       "    </tr>\n",
       "  </tbody>\n",
       "</table>\n",
       "</div>"
      ],
      "text/plain": [
       "      state  location1                                        roster_link\n",
       "7   Georgia  effingham  http://interopweb.com/effinghamsojailpop/Curre...\n",
       "8   Georgia  habersham               http://www.interopweb.com/habersham/\n",
       "9   Georgia      lamar                 http://www.interopweb.com/lamarso/\n",
       "10  Georgia    liberty              http://interopweb.com/libertyjailpop/\n",
       "11  Georgia    madison  http://interopweb.com/madisonjailpop/CurrentIn...\n",
       "12  Georgia      rabun           http://www.interopweb.com/rabun/jailpop/\n",
       "13  Georgia     twiggs               http://interopweb.com/twiggsjailpop/\n",
       "59  Georgia    berrien          http://www.interopweb.com/berrienjailpop/\n",
       "60  Georgia   brantley  http://www.interopweb.com/brantleyjailpop/Curr...\n",
       "61  Georgia    bulloch                 http://www.interopweb.com/bulloch/\n",
       "62  Georgia    carroll                 http://www.interopweb.com/Carroll/\n",
       "63  Georgia   charlton         http://www.interopweb.com/brantleyjailpop/\n",
       "66  Georgia      dodge  http://www.interopweb.com/dodgejailpop/Current...\n",
       "68  Georgia       long                      http://interopweb.com/longso/\n",
       "70  Georgia   tattnall  http://www.interopweb.com/tattnall/CurrentInma...\n",
       "71  Georgia      union                http://interopweb.com/unionjailpop/\n",
       "72  Georgia      upson                   http://www.interopweb.com/upson/"
      ]
     },
     "execution_count": 13,
     "metadata": {},
     "output_type": "execute_result"
    }
   ],
   "source": [
    "links = pd.read_csv('jail_roster.csv')\n",
    "rows = links.roster_link.str.contains('interopweb')\n",
    "part_links = links.loc[rows]\n",
    "part_links"
   ]
  },
  {
   "cell_type": "code",
   "execution_count": null,
   "metadata": {},
   "outputs": [],
   "source": [
    "num_pages_xpath = num_pages_xpath_dict['interopweb']\n",
    "next_page_selector = next_page_selector_dict['interopweb']"
   ]
  },
  {
   "cell_type": "code",
   "execution_count": null,
   "metadata": {},
   "outputs": [],
   "source": [
    "i = 0\n",
    "url = part_links.iloc[i]['roster_link']\n",
    "state = part_links.iloc[i]['state']; location1 = part_links.iloc[i]['location1']"
   ]
  },
  {
   "cell_type": "code",
   "execution_count": null,
   "metadata": {},
   "outputs": [],
   "source": [
    "web_crawler(url, state, location1,  5, num_pages_xpath, next_page_selector, './scraped_html/' )"
   ]
  }
 ],
 "metadata": {
  "kernelspec": {
   "display_name": "Python 3",
   "language": "python",
   "name": "python3"
  },
  "language_info": {
   "codemirror_mode": {
    "name": "ipython",
    "version": 3
   },
   "file_extension": ".py",
   "mimetype": "text/x-python",
   "name": "python",
   "nbconvert_exporter": "python",
   "pygments_lexer": "ipython3",
   "version": "3.6.5"
  }
 },
 "nbformat": 4,
 "nbformat_minor": 2
}
