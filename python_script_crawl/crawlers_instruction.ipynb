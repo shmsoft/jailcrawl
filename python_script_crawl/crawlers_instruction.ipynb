{
 "cells": [
  {
   "cell_type": "code",
   "execution_count": 30,
   "metadata": {},
   "outputs": [],
   "source": [
    "import pandas as pd\n",
    "import pickle\n",
    "import crawlers"
   ]
  },
  {
   "cell_type": "code",
   "execution_count": 44,
   "metadata": {},
   "outputs": [],
   "source": [
    "with open('num_pages_xpath.pickle', 'rb') as file:\n",
    "    num_pages_xpath_dict =pickle.load(file)\n",
    "    \n",
    "with open('next_page_selector.pickle', 'rb') as file:\n",
    "    next_page_selector_dict =pickle.load(file)\n",
    "\n",
    "with open('p2c_select_xpath.pickle', 'rb') as file:\n",
    "    p2c_select_xpath =pickle.load(file)"
   ]
  },
  {
   "cell_type": "code",
   "execution_count": 37,
   "metadata": {},
   "outputs": [
    {
     "name": "stdout",
     "output_type": "stream",
     "text": [
      "\u001b[34m__pycache__\u001b[m\u001b[m                   next_page_selector.pickle\r\n",
      "crawlers.py                   num_pages_xpath.pickle\r\n",
      "\u001b[34mhtmls\u001b[m\u001b[m                         p2c_crawler.py\r\n",
      "inmatelocator_crawl.py        p2c_crawler_instruction.ipynb\r\n",
      "interopweb_crawl.py           p2c_select_xpath.pickle\r\n",
      "jail_crawler.ipynb            test.py\r\n",
      "jail_roster.csv               web_crawler_instruction.ipynb\r\n"
     ]
    }
   ],
   "source": [
    "! ls"
   ]
  },
  {
   "cell_type": "markdown",
   "metadata": {},
   "source": [
    "## host = omsweb"
   ]
  },
  {
   "cell_type": "code",
   "execution_count": 33,
   "metadata": {},
   "outputs": [
    {
     "data": {
      "text/html": [
       "<div>\n",
       "<style scoped>\n",
       "    .dataframe tbody tr th:only-of-type {\n",
       "        vertical-align: middle;\n",
       "    }\n",
       "\n",
       "    .dataframe tbody tr th {\n",
       "        vertical-align: top;\n",
       "    }\n",
       "\n",
       "    .dataframe thead th {\n",
       "        text-align: right;\n",
       "    }\n",
       "</style>\n",
       "<table border=\"1\" class=\"dataframe\">\n",
       "  <thead>\n",
       "    <tr style=\"text-align: right;\">\n",
       "      <th></th>\n",
       "      <th>state</th>\n",
       "      <th>location1</th>\n",
       "      <th>roster_link</th>\n",
       "    </tr>\n",
       "  </thead>\n",
       "  <tbody>\n",
       "    <tr>\n",
       "      <th>1</th>\n",
       "      <td>Indiana</td>\n",
       "      <td>boone</td>\n",
       "      <td>https://omsweb.public-safety-cloud.com/jtclien...</td>\n",
       "    </tr>\n",
       "    <tr>\n",
       "      <th>2</th>\n",
       "      <td>Indiana</td>\n",
       "      <td>laporte</td>\n",
       "      <td>https://omsweb.public-safety-cloud.com/jtclien...</td>\n",
       "    </tr>\n",
       "    <tr>\n",
       "      <th>3</th>\n",
       "      <td>Indiana</td>\n",
       "      <td>pulaski</td>\n",
       "      <td>https://omsweb.public-safety-cloud.com/jtclien...</td>\n",
       "    </tr>\n",
       "    <tr>\n",
       "      <th>4</th>\n",
       "      <td>Indiana</td>\n",
       "      <td>st joseph</td>\n",
       "      <td>https://omsweb.public-safety-cloud.com/jtclien...</td>\n",
       "    </tr>\n",
       "    <tr>\n",
       "      <th>16</th>\n",
       "      <td>Kentucky</td>\n",
       "      <td>campbell</td>\n",
       "      <td>https://omsweb.public-safety-cloud.com/jtclien...</td>\n",
       "    </tr>\n",
       "    <tr>\n",
       "      <th>17</th>\n",
       "      <td>Kentucky</td>\n",
       "      <td>grant</td>\n",
       "      <td>https://omsweb.public-safety-cloud.com/jtclien...</td>\n",
       "    </tr>\n",
       "    <tr>\n",
       "      <th>22</th>\n",
       "      <td>Tennessee</td>\n",
       "      <td>carter</td>\n",
       "      <td>https://omsweb.public-safety-cloud.com/jtclien...</td>\n",
       "    </tr>\n",
       "    <tr>\n",
       "      <th>58</th>\n",
       "      <td>Arkansas</td>\n",
       "      <td>perry</td>\n",
       "      <td>https://omsweb.public-safety-cloud.com/jtclien...</td>\n",
       "    </tr>\n",
       "    <tr>\n",
       "      <th>65</th>\n",
       "      <td>Georgia</td>\n",
       "      <td>dawson</td>\n",
       "      <td>https://omsweb.public-safety-cloud.com/jtclien...</td>\n",
       "    </tr>\n",
       "    <tr>\n",
       "      <th>67</th>\n",
       "      <td>Georgia</td>\n",
       "      <td>hart</td>\n",
       "      <td>https://omsweb.public-safety-cloud.com/jtclien...</td>\n",
       "    </tr>\n",
       "    <tr>\n",
       "      <th>76</th>\n",
       "      <td>North Dakota</td>\n",
       "      <td>burleigh</td>\n",
       "      <td>https://omsweb.public-safety-cloud.com/jtclien...</td>\n",
       "    </tr>\n",
       "  </tbody>\n",
       "</table>\n",
       "</div>"
      ],
      "text/plain": [
       "           state  location1                                        roster_link\n",
       "1        Indiana      boone  https://omsweb.public-safety-cloud.com/jtclien...\n",
       "2        Indiana    laporte  https://omsweb.public-safety-cloud.com/jtclien...\n",
       "3        Indiana    pulaski  https://omsweb.public-safety-cloud.com/jtclien...\n",
       "4        Indiana  st joseph  https://omsweb.public-safety-cloud.com/jtclien...\n",
       "16      Kentucky   campbell  https://omsweb.public-safety-cloud.com/jtclien...\n",
       "17      Kentucky      grant  https://omsweb.public-safety-cloud.com/jtclien...\n",
       "22     Tennessee     carter  https://omsweb.public-safety-cloud.com/jtclien...\n",
       "58      Arkansas      perry  https://omsweb.public-safety-cloud.com/jtclien...\n",
       "65       Georgia     dawson  https://omsweb.public-safety-cloud.com/jtclien...\n",
       "67       Georgia       hart  https://omsweb.public-safety-cloud.com/jtclien...\n",
       "76  North Dakota   burleigh  https://omsweb.public-safety-cloud.com/jtclien..."
      ]
     },
     "execution_count": 33,
     "metadata": {},
     "output_type": "execute_result"
    }
   ],
   "source": [
    "links = pd.read_csv('jail_roster.csv')\n",
    "rows = links.roster_link.str.contains('omsweb')\n",
    "part_links = links.loc[rows]\n",
    "part_links"
   ]
  },
  {
   "cell_type": "code",
   "execution_count": 34,
   "metadata": {},
   "outputs": [],
   "source": [
    "num_pages_xpath = num_pages_xpath_dict['omsweb']\n",
    "next_page_selector = next_page_selector_dict['omsweb']"
   ]
  },
  {
   "cell_type": "code",
   "execution_count": 35,
   "metadata": {},
   "outputs": [],
   "source": [
    "i = 0\n",
    "url = part_links.iloc[i]['roster_link']\n",
    "state = part_links.iloc[i]['state']; location1 = part_links.iloc[i]['location1']\n",
    "time_between_page = 5\n",
    "destination = './htmls/'"
   ]
  },
  {
   "cell_type": "code",
   "execution_count": 36,
   "metadata": {},
   "outputs": [
    {
     "name": "stdout",
     "output_type": "stream",
     "text": [
      "8\n"
     ]
    }
   ],
   "source": [
    "crawlers.web_crawler(url, state, location1,  time_between_page, num_pages_xpath, next_page_selector, destination)"
   ]
  },
  {
   "cell_type": "markdown",
   "metadata": {},
   "source": [
    "## host = interopweb"
   ]
  },
  {
   "cell_type": "code",
   "execution_count": 38,
   "metadata": {},
   "outputs": [
    {
     "data": {
      "text/html": [
       "<div>\n",
       "<style scoped>\n",
       "    .dataframe tbody tr th:only-of-type {\n",
       "        vertical-align: middle;\n",
       "    }\n",
       "\n",
       "    .dataframe tbody tr th {\n",
       "        vertical-align: top;\n",
       "    }\n",
       "\n",
       "    .dataframe thead th {\n",
       "        text-align: right;\n",
       "    }\n",
       "</style>\n",
       "<table border=\"1\" class=\"dataframe\">\n",
       "  <thead>\n",
       "    <tr style=\"text-align: right;\">\n",
       "      <th></th>\n",
       "      <th>state</th>\n",
       "      <th>location1</th>\n",
       "      <th>roster_link</th>\n",
       "    </tr>\n",
       "  </thead>\n",
       "  <tbody>\n",
       "    <tr>\n",
       "      <th>7</th>\n",
       "      <td>Georgia</td>\n",
       "      <td>effingham</td>\n",
       "      <td>http://interopweb.com/effinghamsojailpop/Curre...</td>\n",
       "    </tr>\n",
       "    <tr>\n",
       "      <th>8</th>\n",
       "      <td>Georgia</td>\n",
       "      <td>habersham</td>\n",
       "      <td>http://www.interopweb.com/habersham/</td>\n",
       "    </tr>\n",
       "    <tr>\n",
       "      <th>9</th>\n",
       "      <td>Georgia</td>\n",
       "      <td>lamar</td>\n",
       "      <td>http://www.interopweb.com/lamarso/</td>\n",
       "    </tr>\n",
       "    <tr>\n",
       "      <th>10</th>\n",
       "      <td>Georgia</td>\n",
       "      <td>liberty</td>\n",
       "      <td>http://interopweb.com/libertyjailpop/</td>\n",
       "    </tr>\n",
       "    <tr>\n",
       "      <th>11</th>\n",
       "      <td>Georgia</td>\n",
       "      <td>madison</td>\n",
       "      <td>http://interopweb.com/madisonjailpop/CurrentIn...</td>\n",
       "    </tr>\n",
       "    <tr>\n",
       "      <th>12</th>\n",
       "      <td>Georgia</td>\n",
       "      <td>rabun</td>\n",
       "      <td>http://www.interopweb.com/rabun/jailpop/</td>\n",
       "    </tr>\n",
       "    <tr>\n",
       "      <th>13</th>\n",
       "      <td>Georgia</td>\n",
       "      <td>twiggs</td>\n",
       "      <td>http://interopweb.com/twiggsjailpop/</td>\n",
       "    </tr>\n",
       "    <tr>\n",
       "      <th>59</th>\n",
       "      <td>Georgia</td>\n",
       "      <td>berrien</td>\n",
       "      <td>http://www.interopweb.com/berrienjailpop/</td>\n",
       "    </tr>\n",
       "    <tr>\n",
       "      <th>60</th>\n",
       "      <td>Georgia</td>\n",
       "      <td>brantley</td>\n",
       "      <td>http://www.interopweb.com/brantleyjailpop/Curr...</td>\n",
       "    </tr>\n",
       "    <tr>\n",
       "      <th>61</th>\n",
       "      <td>Georgia</td>\n",
       "      <td>bulloch</td>\n",
       "      <td>http://www.interopweb.com/bulloch/</td>\n",
       "    </tr>\n",
       "    <tr>\n",
       "      <th>62</th>\n",
       "      <td>Georgia</td>\n",
       "      <td>carroll</td>\n",
       "      <td>http://www.interopweb.com/Carroll/</td>\n",
       "    </tr>\n",
       "    <tr>\n",
       "      <th>63</th>\n",
       "      <td>Georgia</td>\n",
       "      <td>charlton</td>\n",
       "      <td>http://www.interopweb.com/brantleyjailpop/</td>\n",
       "    </tr>\n",
       "    <tr>\n",
       "      <th>66</th>\n",
       "      <td>Georgia</td>\n",
       "      <td>dodge</td>\n",
       "      <td>http://www.interopweb.com/dodgejailpop/Current...</td>\n",
       "    </tr>\n",
       "    <tr>\n",
       "      <th>68</th>\n",
       "      <td>Georgia</td>\n",
       "      <td>long</td>\n",
       "      <td>http://interopweb.com/longso/</td>\n",
       "    </tr>\n",
       "    <tr>\n",
       "      <th>70</th>\n",
       "      <td>Georgia</td>\n",
       "      <td>tattnall</td>\n",
       "      <td>http://www.interopweb.com/tattnall/CurrentInma...</td>\n",
       "    </tr>\n",
       "    <tr>\n",
       "      <th>71</th>\n",
       "      <td>Georgia</td>\n",
       "      <td>union</td>\n",
       "      <td>http://interopweb.com/unionjailpop/</td>\n",
       "    </tr>\n",
       "    <tr>\n",
       "      <th>72</th>\n",
       "      <td>Georgia</td>\n",
       "      <td>upson</td>\n",
       "      <td>http://www.interopweb.com/upson/</td>\n",
       "    </tr>\n",
       "  </tbody>\n",
       "</table>\n",
       "</div>"
      ],
      "text/plain": [
       "      state  location1                                        roster_link\n",
       "7   Georgia  effingham  http://interopweb.com/effinghamsojailpop/Curre...\n",
       "8   Georgia  habersham               http://www.interopweb.com/habersham/\n",
       "9   Georgia      lamar                 http://www.interopweb.com/lamarso/\n",
       "10  Georgia    liberty              http://interopweb.com/libertyjailpop/\n",
       "11  Georgia    madison  http://interopweb.com/madisonjailpop/CurrentIn...\n",
       "12  Georgia      rabun           http://www.interopweb.com/rabun/jailpop/\n",
       "13  Georgia     twiggs               http://interopweb.com/twiggsjailpop/\n",
       "59  Georgia    berrien          http://www.interopweb.com/berrienjailpop/\n",
       "60  Georgia   brantley  http://www.interopweb.com/brantleyjailpop/Curr...\n",
       "61  Georgia    bulloch                 http://www.interopweb.com/bulloch/\n",
       "62  Georgia    carroll                 http://www.interopweb.com/Carroll/\n",
       "63  Georgia   charlton         http://www.interopweb.com/brantleyjailpop/\n",
       "66  Georgia      dodge  http://www.interopweb.com/dodgejailpop/Current...\n",
       "68  Georgia       long                      http://interopweb.com/longso/\n",
       "70  Georgia   tattnall  http://www.interopweb.com/tattnall/CurrentInma...\n",
       "71  Georgia      union                http://interopweb.com/unionjailpop/\n",
       "72  Georgia      upson                   http://www.interopweb.com/upson/"
      ]
     },
     "execution_count": 38,
     "metadata": {},
     "output_type": "execute_result"
    }
   ],
   "source": [
    "links = pd.read_csv('jail_roster.csv')\n",
    "rows = links.roster_link.str.contains('interopweb')\n",
    "part_links = links.loc[rows]\n",
    "part_links"
   ]
  },
  {
   "cell_type": "code",
   "execution_count": 39,
   "metadata": {},
   "outputs": [],
   "source": [
    "num_pages_xpath = num_pages_xpath_dict['interopweb']\n",
    "next_page_selector = next_page_selector_dict['interopweb']"
   ]
  },
  {
   "cell_type": "code",
   "execution_count": 40,
   "metadata": {},
   "outputs": [],
   "source": [
    "i = 5\n",
    "url = part_links.iloc[i]['roster_link']\n",
    "state = part_links.iloc[i]['state']; location1 = part_links.iloc[i]['location1']\n",
    "time_between_page = 5\n",
    "destination = './htmls/'"
   ]
  },
  {
   "cell_type": "code",
   "execution_count": 43,
   "metadata": {},
   "outputs": [
    {
     "name": "stdout",
     "output_type": "stream",
     "text": [
      "10\n"
     ]
    }
   ],
   "source": [
    "crawlers.web_crawler(url, state, location1,  time_between_page, num_pages_xpath, next_page_selector, destination)"
   ]
  },
  {
   "cell_type": "markdown",
   "metadata": {},
   "source": [
    "## host = p2c\n",
    "Check [here]('https://docs.google.com/spreadsheets/d/1_8FExSupqUlIOCHcFJ3e7e9TB6dGhrUKr1C_KCJAcEo/edit?usp=sharing') for all the websites that can be crawled by p2c_crawler"
   ]
  },
  {
   "cell_type": "code",
   "execution_count": 45,
   "metadata": {},
   "outputs": [],
   "source": [
    "url = 'http://www.whitfieldcountyga.com/p2c/jailinmates.aspx'\n",
    "state = 'Georgia'; location1 = 'whitfield'\n",
    "time_between_page = 5\n",
    "file_destination ='./htmls/'"
   ]
  },
  {
   "cell_type": "code",
   "execution_count": 47,
   "metadata": {},
   "outputs": [],
   "source": [
    "crawlers.p2c_crawler(url, state, location1, time_between_page, p2c_select_xpath, file_destination)"
   ]
  },
  {
   "cell_type": "markdown",
   "metadata": {},
   "source": [
    "## California Kings County"
   ]
  },
  {
   "cell_type": "code",
   "execution_count": null,
   "metadata": {},
   "outputs": [],
   "source": [
    "url = 'http://inmatelocator.countyofkings.com/Inmate/Index'\n",
    "state = 'California'; location1 = 'kings'\n",
    "file_destination ='./htmls/'"
   ]
  },
  {
   "cell_type": "code",
   "execution_count": 49,
   "metadata": {},
   "outputs": [
    {
     "ename": "AttributeError",
     "evalue": "module 'crawlers' has no attribute 'basic_crawler'",
     "output_type": "error",
     "traceback": [
      "\u001b[0;31m---------------------------------------------------------------------------\u001b[0m",
      "\u001b[0;31mAttributeError\u001b[0m                            Traceback (most recent call last)",
      "\u001b[0;32m<ipython-input-49-1c09398b9e31>\u001b[0m in \u001b[0;36m<module>\u001b[0;34m()\u001b[0m\n\u001b[0;32m----> 1\u001b[0;31m \u001b[0mcrawlers\u001b[0m\u001b[0;34m.\u001b[0m\u001b[0mbasic_crawler\u001b[0m\u001b[0;34m(\u001b[0m\u001b[0murl\u001b[0m\u001b[0;34m,\u001b[0m \u001b[0mstate\u001b[0m\u001b[0;34m,\u001b[0m \u001b[0mlocation1\u001b[0m\u001b[0;34m,\u001b[0m \u001b[0mfile_destination\u001b[0m\u001b[0;34m)\u001b[0m\u001b[0;34m\u001b[0m\u001b[0m\n\u001b[0m",
      "\u001b[0;31mAttributeError\u001b[0m: module 'crawlers' has no attribute 'basic_crawler'"
     ]
    }
   ],
   "source": [
    "crawlers.basic_crawler(url, state, location1, file_destination)"
   ]
  },
  {
   "cell_type": "code",
   "execution_count": null,
   "metadata": {},
   "outputs": [],
   "source": []
  }
 ],
 "metadata": {
  "kernelspec": {
   "display_name": "Python 3",
   "language": "python",
   "name": "python3"
  },
  "language_info": {
   "codemirror_mode": {
    "name": "ipython",
    "version": 3
   },
   "file_extension": ".py",
   "mimetype": "text/x-python",
   "name": "python",
   "nbconvert_exporter": "python",
   "pygments_lexer": "ipython3",
   "version": "3.6.5"
  }
 },
 "nbformat": 4,
 "nbformat_minor": 2
}
