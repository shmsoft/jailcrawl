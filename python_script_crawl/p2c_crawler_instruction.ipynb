{
 "cells": [
  {
   "cell_type": "code",
   "execution_count": 1,
   "metadata": {},
   "outputs": [],
   "source": [
    "from bs4 import BeautifulSoup as Soup\n",
    "import pandas as pd\n",
    "import datetime\n",
    "import requests\n",
    "from selenium import webdriver\n",
    "import time\n",
    "import re\n",
    "import pickle"
   ]
  },
  {
   "cell_type": "code",
   "execution_count": 2,
   "metadata": {},
   "outputs": [],
   "source": [
    "import p2c_crawler"
   ]
  },
  {
   "cell_type": "code",
   "execution_count": 4,
   "metadata": {},
   "outputs": [
    {
     "name": "stdout",
     "output_type": "stream",
     "text": [
      "\u001b[34m__pycache__\u001b[m\u001b[m                   p2c_crawler.py\r\n",
      "inmatelocator_crawl.py        p2c_crawler_instruction.ipynb\r\n",
      "interopweb_crawl.py           p2c_select_xpath.pickle\r\n",
      "jail_crawler.ipynb            \u001b[34mscraped_html\u001b[m\u001b[m\r\n",
      "jail_roster.csv               web_crawler.py\r\n",
      "next_page_selector.pickle     web_crawler_instruction.ipynb\r\n",
      "num_pages_xpath.pickle\r\n"
     ]
    }
   ],
   "source": [
    "! ls"
   ]
  },
  {
   "cell_type": "code",
   "execution_count": 5,
   "metadata": {},
   "outputs": [],
   "source": [
    "with open('p2c_select_xpath.pickle', 'rb') as file:\n",
    "    select_xpath =pickle.load(file)"
   ]
  },
  {
   "cell_type": "markdown",
   "metadata": {},
   "source": [
    "## Check [here]('https://docs.google.com/spreadsheets/d/1_8FExSupqUlIOCHcFJ3e7e9TB6dGhrUKr1C_KCJAcEo/edit?usp=sharing') for all the websites that can be crawled by p2c_crawler"
   ]
  },
  {
   "cell_type": "code",
   "execution_count": null,
   "metadata": {},
   "outputs": [],
   "source": [
    "url = 'http://www.whitfieldcountyga.com/p2c/jailinmates.aspx'\n",
    "state = 'Georgia'; location1 = 'whitfield'\n",
    "time_between_page = 5\n",
    "file_destination ='./'"
   ]
  },
  {
   "cell_type": "code",
   "execution_count": null,
   "metadata": {},
   "outputs": [],
   "source": [
    "p2c_crawler(url, state, location1, 5, select_xpath, file_destination)"
   ]
  }
 ],
 "metadata": {
  "kernelspec": {
   "display_name": "Python 3",
   "language": "python",
   "name": "python3"
  },
  "language_info": {
   "codemirror_mode": {
    "name": "ipython",
    "version": 3
   },
   "file_extension": ".py",
   "mimetype": "text/x-python",
   "name": "python",
   "nbconvert_exporter": "python",
   "pygments_lexer": "ipython3",
   "version": "3.6.5"
  }
 },
 "nbformat": 4,
 "nbformat_minor": 2
}
